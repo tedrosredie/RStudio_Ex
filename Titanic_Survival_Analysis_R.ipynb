{
  "nbformat": 4,
  "nbformat_minor": 0,
  "metadata": {
    "colab": {
      "provenance": [],
      "authorship_tag": "ABX9TyPdaIUnDeIBRHxnz8YIzqNg"
    },
    "kernelspec": {
      "name": "ir",
      "display_name": "R"
    },
    "language_info": {
      "name": "R"
    }
  },
  "cells": [
    {
      "cell_type": "code",
      "source": [
        "# Install required packages\n",
        "install.packages(\"tidyverse\")\n",
        "install.packages(\"caret\")\n",
        "install.packages(\"ggplot2\")\n"
      ],
      "metadata": {
        "colab": {
          "base_uri": "https://localhost:8080/"
        },
        "id": "yDfowXCYylPH",
        "outputId": "411d3698-450f-48b8-ae04-f906a1026fc0"
      },
      "execution_count": 3,
      "outputs": [
        {
          "output_type": "stream",
          "name": "stderr",
          "text": [
            "Installing package into ‘/usr/local/lib/R/site-library’\n",
            "(as ‘lib’ is unspecified)\n",
            "\n",
            "Installing package into ‘/usr/local/lib/R/site-library’\n",
            "(as ‘lib’ is unspecified)\n",
            "\n",
            "also installing the dependencies ‘listenv’, ‘parallelly’, ‘future’, ‘globals’, ‘shape’, ‘future.apply’, ‘numDeriv’, ‘progressr’, ‘SQUAREM’, ‘diagram’, ‘lava’, ‘prodlim’, ‘proxy’, ‘iterators’, ‘clock’, ‘gower’, ‘hardhat’, ‘ipred’, ‘sparsevctrs’, ‘timeDate’, ‘e1071’, ‘foreach’, ‘ModelMetrics’, ‘plyr’, ‘pROC’, ‘recipes’, ‘reshape2’\n",
            "\n",
            "\n",
            "Installing package into ‘/usr/local/lib/R/site-library’\n",
            "(as ‘lib’ is unspecified)\n",
            "\n"
          ]
        }
      ]
    },
    {
      "cell_type": "code",
      "source": [
        "# Titanic Survival Analysis - Base R Version\n",
        "\n",
        "# Step 1: Load available packages (no installation needed)\n",
        "library(datasets)  # For Titanic data\n",
        "library(ggplot2)   # Usually pre-installed\n"
      ],
      "metadata": {
        "id": "LT__lxuzzcQq"
      },
      "execution_count": 4,
      "outputs": []
    },
    {
      "cell_type": "code",
      "source": [
        "# Step 2: Load and inspect the dataset\n",
        "cat(\"Step 1: Loading Titanic Dataset\\n\")\n",
        "data(Titanic)\n",
        "\n",
        "# Convert to data frame\n",
        "titanic_df <- as.data.frame(Titanic)\n",
        "cat(\"Dataset structure:\\n\")\n",
        "print(str(titanic_df))\n",
        "cat(\"\\nFirst few rows:\\n\")\n",
        "print(head(titanic_df))"
      ],
      "metadata": {
        "colab": {
          "base_uri": "https://localhost:8080/"
        },
        "id": "gce8-6U4zh3z",
        "outputId": "92f89527-53a2-46e1-fcc3-d7a44787b6f9"
      },
      "execution_count": 5,
      "outputs": [
        {
          "output_type": "stream",
          "name": "stdout",
          "text": [
            "Step 1: Loading Titanic Dataset\n",
            "Dataset structure:\n",
            "'data.frame':\t32 obs. of  5 variables:\n",
            " $ Class   : Factor w/ 4 levels \"1st\",\"2nd\",\"3rd\",..: 1 2 3 4 1 2 3 4 1 2 ...\n",
            " $ Sex     : Factor w/ 2 levels \"Male\",\"Female\": 1 1 1 1 2 2 2 2 1 1 ...\n",
            " $ Age     : Factor w/ 2 levels \"Child\",\"Adult\": 1 1 1 1 1 1 1 1 2 2 ...\n",
            " $ Survived: Factor w/ 2 levels \"No\",\"Yes\": 1 1 1 1 1 1 1 1 1 1 ...\n",
            " $ Freq    : num  0 0 35 0 0 0 17 0 118 154 ...\n",
            "NULL\n",
            "\n",
            "First few rows:\n",
            "  Class    Sex   Age Survived Freq\n",
            "1   1st   Male Child       No    0\n",
            "2   2nd   Male Child       No    0\n",
            "3   3rd   Male Child       No   35\n",
            "4  Crew   Male Child       No    0\n",
            "5   1st Female Child       No    0\n",
            "6   2nd Female Child       No    0\n"
          ]
        }
      ]
    },
    {
      "cell_type": "code",
      "source": [
        "# Step 3: Create expanded dataset\n",
        "cat(\"\\nStep 2: Preparing Data\\n\")\n",
        "expanded_titanic <- titanic_df[rep(1:nrow(titanic_df), titanic_df$Freq), 1:4]\n",
        "expanded_titanic$SurvivedNum <- ifelse(expanded_titanic$Survived == \"Yes\", 1, 0)\n",
        "cat(\"Expanded data summary:\\n\")\n",
        "print(table(expanded_titanic$Class, expanded_titanic$Survived))"
      ],
      "metadata": {
        "colab": {
          "base_uri": "https://localhost:8080/"
        },
        "id": "C7-4fLKnzmJc",
        "outputId": "6e5c6404-47f3-460e-f21b-8de995ec9433"
      },
      "execution_count": 7,
      "outputs": [
        {
          "output_type": "stream",
          "name": "stdout",
          "text": [
            "\n",
            "Step 2: Preparing Data\n",
            "Expanded data summary:\n",
            "      \n",
            "        No Yes\n",
            "  1st  122 203\n",
            "  2nd  167 118\n",
            "  3rd  528 178\n",
            "  Crew 673 212\n"
          ]
        }
      ]
    },
    {
      "cell_type": "code",
      "source": [
        "# Step 4: Descriptive statistics\n",
        "cat(\"\\nStep 3: Descriptive Statistics\\n\")\n",
        "\n",
        "# Survival by class\n",
        "cat(\"Survival by Passenger Class:\\n\")\n",
        "class_stats <- aggregate(SurvivedNum ~ Class, data = expanded_titanic,\n",
        "                        FUN = function(x) c(Count = length(x),\n",
        "                                           Survived = sum(x),\n",
        "                                           Rate = mean(x)))\n",
        "print(class_stats)\n",
        "\n",
        "# Survival by gender\n",
        "cat(\"\\nSurvival by Gender:\\n\")\n",
        "gender_stats <- aggregate(SurvivedNum ~ Sex, data = expanded_titanic,\n",
        "                         FUN = function(x) c(Count = length(x),\n",
        "                                            Survived = sum(x),\n",
        "                                            Rate = mean(x)))\n",
        "print(gender_stats)\n"
      ],
      "metadata": {
        "colab": {
          "base_uri": "https://localhost:8080/"
        },
        "id": "Y99G0VBY1Lmk",
        "outputId": "7e1a362a-1aa1-4c12-dee0-347d373dd6ef"
      },
      "execution_count": 8,
      "outputs": [
        {
          "output_type": "stream",
          "name": "stdout",
          "text": [
            "\n",
            "Step 3: Descriptive Statistics\n",
            "Survival by Passenger Class:\n",
            "  Class SurvivedNum.Count SurvivedNum.Survived SurvivedNum.Rate\n",
            "1   1st       325.0000000          203.0000000        0.6246154\n",
            "2   2nd       285.0000000          118.0000000        0.4140351\n",
            "3   3rd       706.0000000          178.0000000        0.2521246\n",
            "4  Crew       885.0000000          212.0000000        0.2395480\n",
            "\n",
            "Survival by Gender:\n",
            "     Sex SurvivedNum.Count SurvivedNum.Survived SurvivedNum.Rate\n",
            "1   Male      1731.0000000          367.0000000        0.2120162\n",
            "2 Female       470.0000000          344.0000000        0.7319149\n"
          ]
        }
      ]
    },
    {
      "cell_type": "code",
      "source": [
        "# Step 5: Data visualization\n",
        "cat(\"\\nStep 4: Data Visualization\\n\")\n",
        "\n",
        "# Plot 1: Survival by class\n",
        "par(mfrow = c(1, 2))  # Set up 1x2 plotting area\n",
        "\n",
        "# Bar plot of survival by class\n",
        "survival_table <- table(expanded_titanic$Class, expanded_titanic$Survived)\n",
        "barplot(t(survival_table),\n",
        "        main = \"Survival by Passenger Class\",\n",
        "        xlab = \"Class\",\n",
        "        ylab = \"Count\",\n",
        "        col = c(\"red\", \"green\"),\n",
        "        legend = TRUE)\n",
        "\n",
        "# Survival rates by class and gender\n",
        "survival_rates <- aggregate(SurvivedNum ~ Class + Sex, data = expanded_titanic, mean)\n",
        "barplot(survival_rates$SurvivedNum,\n",
        "        names.arg = paste(survival_rates$Class, survival_rates$Sex),\n",
        "        main = \"Survival Rates by Class and Gender\",\n",
        "        ylab = \"Survival Rate\",\n",
        "        col = \"lightblue\",\n",
        "        las = 2)"
      ],
      "metadata": {
        "colab": {
          "base_uri": "https://localhost:8080/",
          "height": 473
        },
        "id": "Fealt3zm1P2G",
        "outputId": "d498b7e3-3a41-4c32-a153-841c11acbc44"
      },
      "execution_count": 9,
      "outputs": [
        {
          "output_type": "stream",
          "name": "stdout",
          "text": [
            "\n",
            "Step 4: Data Visualization\n"
          ]
        },
        {
          "output_type": "display_data",
          "data": {
            "text/plain": [
              "Plot with title “Survival Rates by Class and Gender”"
            ],
            "image/png": "[encoded data removed]"
          },
          "metadata": {
            "image/png": {
              "width": 420,
              "height": 420
            }
          }
        }
      ]
    },
    {
      "cell_type": "code",
      "source": [
        "# Step 6: Statistical testing\n",
        "cat(\"\\nStep 5: Statistical Tests\\n\")\n",
        "\n",
        "# Chi-square test for class vs survival\n",
        "class_test <- chisq.test(table(expanded_titanic$Class, expanded_titanic$Survived))\n",
        "cat(\"Class vs Survival chi-square test:\\n\")\n",
        "print(class_test)\n",
        "\n",
        "# Chi-square test for gender vs survival\n",
        "gender_test <- chisq.test(table(expanded_titanic$Sex, expanded_titanic$Survived))\n",
        "cat(\"\\nGender vs Survival chi-square test:\\n\")\n",
        "print(gender_test)"
      ],
      "metadata": {
        "colab": {
          "base_uri": "https://localhost:8080/"
        },
        "id": "jX2tR2pA1Z2G",
        "outputId": "8c591c38-4d0a-406e-ec51-776ec218b167"
      },
      "execution_count": 10,
      "outputs": [
        {
          "output_type": "stream",
          "name": "stdout",
          "text": [
            "\n",
            "Step 5: Statistical Tests\n",
            "Class vs Survival chi-square test:\n",
            "\n",
            "\tPearson's Chi-squared test\n",
            "\n",
            "data:  table(expanded_titanic$Class, expanded_titanic$Survived)\n",
            "X-squared = 190.4, df = 3, p-value < 2.2e-16\n",
            "\n",
            "\n",
            "Gender vs Survival chi-square test:\n",
            "\n",
            "\tPearson's Chi-squared test with Yates' continuity correction\n",
            "\n",
            "data:  table(expanded_titanic$Sex, expanded_titanic$Survived)\n",
            "X-squared = 454.5, df = 1, p-value < 2.2e-16\n",
            "\n"
          ]
        }
      ]
    },
    {
      "cell_type": "code",
      "source": [
        "# Step 7: Simple predictive modeling (using base R)\n",
        "cat(\"\\nStep 6: Simple Predictive Analysis\\n\")\n",
        "\n",
        "# Create a simple logistic regression model\n",
        "model <- glm(SurvivedNum ~ Class + Sex + Age,\n",
        "            data = expanded_titanic,\n",
        "            family = binomial)\n",
        "\n",
        "cat(\"Logistic Regression Results:\\n\")\n",
        "print(summary(model))\n"
      ],
      "metadata": {
        "colab": {
          "base_uri": "https://localhost:8080/"
        },
        "id": "JKYRNoPg1dXo",
        "outputId": "e2e003c4-a3ce-462d-eeab-f9eb9da64504"
      },
      "execution_count": 11,
      "outputs": [
        {
          "output_type": "stream",
          "name": "stdout",
          "text": [
            "\n",
            "Step 6: Simple Predictive Analysis\n",
            "Logistic Regression Results:\n",
            "\n",
            "Call:\n",
            "glm(formula = SurvivedNum ~ Class + Sex + Age, family = binomial, \n",
            "    data = expanded_titanic)\n",
            "\n",
            "Coefficients:\n",
            "            Estimate Std. Error z value Pr(>|z|)    \n",
            "(Intercept)   0.6853     0.2730   2.510   0.0121 *  \n",
            "Class2nd     -1.0181     0.1960  -5.194 2.05e-07 ***\n",
            "Class3rd     -1.7778     0.1716 -10.362  < 2e-16 ***\n",
            "ClassCrew    -0.8577     0.1573  -5.451 5.00e-08 ***\n",
            "SexFemale     2.4201     0.1404  17.236  < 2e-16 ***\n",
            "AgeAdult     -1.0615     0.2440  -4.350 1.36e-05 ***\n",
            "---\n",
            "Signif. codes:  0 ‘***’ 0.001 ‘**’ 0.01 ‘*’ 0.05 ‘.’ 0.1 ‘ ’ 1\n",
            "\n",
            "(Dispersion parameter for binomial family taken to be 1)\n",
            "\n",
            "    Null deviance: 2769.5  on 2200  degrees of freedom\n",
            "Residual deviance: 2210.1  on 2195  degrees of freedom\n",
            "AIC: 2222.1\n",
            "\n",
            "Number of Fisher Scoring iterations: 4\n",
            "\n"
          ]
        }
      ]
    },
    {
      "cell_type": "code",
      "source": [
        "# Step 8: Odds ratios and interpretation\n",
        "cat(\"\\nStep 7: Interpretation\\n\")\n",
        "odds_ratios <- exp(coef(model))\n",
        "cat(\"Odds Ratios:\\n\")\n",
        "for(i in 1:length(odds_ratios)) {\n",
        "  cat(names(odds_ratios)[i], \":\", round(odds_ratios[i], 3), \"\\n\")\n",
        "}\n"
      ],
      "metadata": {
        "colab": {
          "base_uri": "https://localhost:8080/"
        },
        "id": "ocUJiwHh1h7T",
        "outputId": "fd3dbae2-2ae9-45d3-f0ce-cd77bdb34e38"
      },
      "execution_count": 12,
      "outputs": [
        {
          "output_type": "stream",
          "name": "stdout",
          "text": [
            "\n",
            "Step 7: Interpretation\n",
            "Odds Ratios:\n",
            "(Intercept) : 1.984 \n",
            "Class2nd : 0.361 \n",
            "Class3rd : 0.169 \n",
            "ClassCrew : 0.424 \n",
            "SexFemale : 11.247 \n",
            "AgeAdult : 0.346 \n"
          ]
        }
      ]
    },
    {
      "cell_type": "code",
      "source": [
        "# Step 9: Key findings\n",
        "cat(\"\\nStep 8: Key Findings\\n\")\n",
        "cat(\"=== TITANIC SURVIVAL ANALYSIS RESULTS ===\\n\")\n",
        "\n",
        "# Calculate overall survival rate\n",
        "overall_survival <- mean(expanded_titanic$SurvivedNum)\n",
        "cat(\"1. Overall survival rate:\", round(overall_survival * 100, 1), \"%\\n\")\n",
        "\n",
        "# Find highest survival group\n",
        "group_rates <- aggregate(SurvivedNum ~ Class + Sex + Age, data = expanded_titanic, mean)\n",
        "best_group <- group_rates[which.max(group_rates$SurvivedNum), ]\n",
        "cat(\"2. Highest survival group:\",\n",
        "    paste(best_group$Class, best_group$Sex, best_group$Age),\n",
        "    \"-\", round(best_group$SurvivedNum * 100, 1), \"% survival\\n\")\n",
        "\n",
        "# Find lowest survival group\n",
        "worst_group <- group_rates[which.min(group_rates$SurvivedNum), ]\n",
        "cat(\"3. Lowest survival group:\",\n",
        "    paste(worst_group$Class, worst_group$Sex, worst_group$Age),\n",
        "    \"-\", round(worst_group$SurvivedNum * 100, 1), \"% survival\\n\")\n",
        "\n",
        "cat(\"4. Statistical tests show both class and gender significantly affect survival (p < 0.001)\\n\")\n",
        "cat(\"5. First class passengers had much higher survival odds\\n\")\n",
        "cat(\"6. Females had significantly better survival chances than males\\n\")"
      ],
      "metadata": {
        "colab": {
          "base_uri": "https://localhost:8080/"
        },
        "id": "fPQOd6Au1l2S",
        "outputId": "fb56808b-4d54-4fbd-dd3b-c4bcfcff6659"
      },
      "execution_count": 13,
      "outputs": [
        {
          "output_type": "stream",
          "name": "stdout",
          "text": [
            "\n",
            "Step 8: Key Findings\n",
            "=== TITANIC SURVIVAL ANALYSIS RESULTS ===\n",
            "1. Overall survival rate: 32.3 %\n",
            "2. Highest survival group: 1st Male Child - 100 % survival\n",
            "3. Lowest survival group: 2nd Male Adult - 8.3 % survival\n",
            "4. Statistical tests show both class and gender significantly affect survival (p < 0.001)\n",
            "5. First class passengers had much higher survival odds\n",
            "6. Females had significantly better survival chances than males\n"
          ]
        }
      ]
    }
  ]
}